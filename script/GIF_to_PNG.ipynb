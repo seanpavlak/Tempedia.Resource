{
 "cells": [
  {
   "cell_type": "code",
   "execution_count": 1,
   "metadata": {},
   "outputs": [],
   "source": [
    "import numpy as np\n",
    "from PIL import Image, ImageDraw, ImageFont, ImageChops #dynamic import\n",
    "import glob\n",
    "import os"
   ]
  },
  {
   "cell_type": "code",
   "execution_count": 2,
   "metadata": {},
   "outputs": [],
   "source": [
    "def trim(im):\n",
    "    bg = Image.new(im.mode, im.size, im.getpixel((0,0)))\n",
    "    diff = ImageChops.difference(im, bg)\n",
    "    diff = ImageChops.add(diff, diff)\n",
    "    bbox = diff.getbbox()\n",
    "    if bbox:\n",
    "        return im.crop(bbox)\n",
    "    else: \n",
    "        return im"
   ]
  },
  {
   "cell_type": "code",
   "execution_count": 3,
   "metadata": {},
   "outputs": [],
   "source": [
    "def gif_to_png():\n",
    "    for image in glob.glob('..//images//luma//*.gif'):\n",
    "        gif = image.split(\".gif\")\n",
    "        img = Image.open(image)\n",
    "        img.save(gif[0]+\".png\",'png', optimize=True, quality=100)\n",
    "\n",
    "    for image in glob.glob('..//images//standard//*.gif'):\n",
    "        gif = image.split(\".gif\")\n",
    "        img = Image.open(image)\n",
    "        img.save(gif[0]+\".png\",'png', optimize=True, quality=100)"
   ]
  },
  {
   "cell_type": "code",
   "execution_count": 4,
   "metadata": {},
   "outputs": [],
   "source": [
    "def clean_png():\n",
    "    for image in glob.glob('..//images//luma//*_trim.png'):\n",
    "        os.remove(image)\n",
    "\n",
    "    for image in glob.glob('..//images//standard//*_trim.png'):\n",
    "        os.remove(image)"
   ]
  },
  {
   "cell_type": "code",
   "execution_count": 5,
   "metadata": {},
   "outputs": [],
   "source": [
    "def trim_png():\n",
    "    for image in glob.glob('..//images//luma//*.png'):\n",
    "        png = image.split(\".png\")    \n",
    "        img = Image.open(png[0]+\".png\")\n",
    "        img = trim(img)\n",
    "        img.save(png[0]+\"_trim\"+\".png\",'png', optimize=True, quality=100)\n",
    "\n",
    "    for image in glob.glob('..//images//standard//*.png'):\n",
    "        png = image.split(\".png\")    \n",
    "        img = Image.open(png[0]+\".png\")\n",
    "        img = trim(img)\n",
    "        img.save(png[0]+\"_trim\"+\".png\",'png', optimize=True, quality=100)"
   ]
  },
  {
   "cell_type": "code",
   "execution_count": 6,
   "metadata": {},
   "outputs": [],
   "source": [
    "gif_to_png()"
   ]
  },
  {
   "cell_type": "code",
   "execution_count": 7,
   "metadata": {},
   "outputs": [],
   "source": [
    "clean_png()"
   ]
  },
  {
   "cell_type": "code",
   "execution_count": 8,
   "metadata": {},
   "outputs": [],
   "source": [
    "trim_png()"
   ]
  }
 ],
 "metadata": {
  "kernelspec": {
   "display_name": "Python 3",
   "language": "python",
   "name": "python3"
  },
  "language_info": {
   "codemirror_mode": {
    "name": "ipython",
    "version": 3
   },
   "file_extension": ".py",
   "mimetype": "text/x-python",
   "name": "python",
   "nbconvert_exporter": "python",
   "pygments_lexer": "ipython3",
   "version": "3.6.12"
  }
 },
 "nbformat": 4,
 "nbformat_minor": 2
}
