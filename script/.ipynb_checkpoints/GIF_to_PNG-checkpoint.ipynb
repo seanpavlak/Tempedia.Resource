{
 "cells": [
  {
   "cell_type": "code",
   "execution_count": 32,
   "metadata": {},
   "outputs": [],
   "source": [
    "from PIL import Image, ImageDraw, ImageFont #dynamic import\n",
    "import glob"
   ]
  },
  {
   "cell_type": "code",
   "execution_count": 33,
   "metadata": {},
   "outputs": [],
   "source": [
    "# images = glob.glob('..//images//luma//*.gif')\n",
    "images = glob.glob('..//images//standard//*.gif')"
   ]
  },
  {
   "cell_type": "code",
   "execution_count": 34,
   "metadata": {},
   "outputs": [],
   "source": [
    "for image in images:\n",
    "    gif = image.split(\".gif\")\n",
    "    img = Image.open(image)\n",
    "    img.save(gif[0]+\".png\",'png', optimize=True, quality=100)"
   ]
  },
  {
   "cell_type": "code",
   "execution_count": 35,
   "metadata": {},
   "outputs": [
    {
     "data": {
      "text/plain": [
       "['..//images//luma\\\\10.gif',\n",
       " '..//images//luma\\\\100.gif',\n",
       " '..//images//luma\\\\101.gif',\n",
       " '..//images//luma\\\\102.gif',\n",
       " '..//images//luma\\\\103.gif',\n",
       " '..//images//luma\\\\104.gif',\n",
       " '..//images//luma\\\\105.gif',\n",
       " '..//images//luma\\\\106.gif',\n",
       " '..//images//luma\\\\107.gif',\n",
       " '..//images//luma\\\\108.gif',\n",
       " '..//images//luma\\\\109.gif',\n",
       " '..//images//luma\\\\11.gif',\n",
       " '..//images//luma\\\\110.gif',\n",
       " '..//images//luma\\\\111.gif',\n",
       " '..//images//luma\\\\112.gif',\n",
       " '..//images//luma\\\\113.gif',\n",
       " '..//images//luma\\\\114.gif',\n",
       " '..//images//luma\\\\115.gif',\n",
       " '..//images//luma\\\\116.gif',\n",
       " '..//images//luma\\\\117.gif',\n",
       " '..//images//luma\\\\118.gif',\n",
       " '..//images//luma\\\\12.gif',\n",
       " '..//images//luma\\\\122.gif',\n",
       " '..//images//luma\\\\123.gif',\n",
       " '..//images//luma\\\\124.gif',\n",
       " '..//images//luma\\\\127.gif',\n",
       " '..//images//luma\\\\128.gif',\n",
       " '..//images//luma\\\\129.gif',\n",
       " '..//images//luma\\\\130.gif',\n",
       " '..//images//luma\\\\131.gif',\n",
       " '..//images//luma\\\\133.gif',\n",
       " '..//images//luma\\\\134.gif',\n",
       " '..//images//luma\\\\137.gif',\n",
       " '..//images//luma\\\\138.gif',\n",
       " '..//images//luma\\\\139.gif',\n",
       " '..//images//luma\\\\140.gif',\n",
       " '..//images//luma\\\\141.gif',\n",
       " '..//images//luma\\\\142.gif',\n",
       " '..//images//luma\\\\144.gif',\n",
       " '..//images//luma\\\\16.gif',\n",
       " '..//images//luma\\\\161.gif',\n",
       " '..//images//luma\\\\17.gif',\n",
       " '..//images//luma\\\\18.gif',\n",
       " '..//images//luma\\\\21.gif',\n",
       " '..//images//luma\\\\22.gif',\n",
       " '..//images//luma\\\\23.gif',\n",
       " '..//images//luma\\\\24.gif',\n",
       " '..//images//luma\\\\25.gif',\n",
       " '..//images//luma\\\\26.gif',\n",
       " '..//images//luma\\\\27.gif',\n",
       " '..//images//luma\\\\28.gif',\n",
       " '..//images//luma\\\\29.gif',\n",
       " '..//images//luma\\\\30.gif',\n",
       " '..//images//luma\\\\31.gif',\n",
       " '..//images//luma\\\\32.gif',\n",
       " '..//images//luma\\\\33.gif',\n",
       " '..//images//luma\\\\34.gif',\n",
       " '..//images//luma\\\\35.gif',\n",
       " '..//images//luma\\\\36.gif',\n",
       " '..//images//luma\\\\37.gif',\n",
       " '..//images//luma\\\\38.gif',\n",
       " '..//images//luma\\\\39.gif',\n",
       " '..//images//luma\\\\40.gif',\n",
       " '..//images//luma\\\\41.gif',\n",
       " '..//images//luma\\\\44.gif',\n",
       " '..//images//luma\\\\45.gif',\n",
       " '..//images//luma\\\\48.gif',\n",
       " '..//images//luma\\\\49.gif',\n",
       " '..//images//luma\\\\50.gif',\n",
       " '..//images//luma\\\\53.gif',\n",
       " '..//images//luma\\\\54.gif',\n",
       " '..//images//luma\\\\55.gif',\n",
       " '..//images//luma\\\\56.gif',\n",
       " '..//images//luma\\\\57.gif',\n",
       " '..//images//luma\\\\58.gif',\n",
       " '..//images//luma\\\\59.gif',\n",
       " '..//images//luma\\\\60.gif',\n",
       " '..//images//luma\\\\61.gif',\n",
       " '..//images//luma\\\\66.gif',\n",
       " '..//images//luma\\\\67.gif',\n",
       " '..//images//luma\\\\68.gif',\n",
       " '..//images//luma\\\\69.gif',\n",
       " '..//images//luma\\\\7.gif',\n",
       " '..//images//luma\\\\70.gif',\n",
       " '..//images//luma\\\\71.gif',\n",
       " '..//images//luma\\\\72.gif',\n",
       " '..//images//luma\\\\73.gif',\n",
       " '..//images//luma\\\\74.gif',\n",
       " '..//images//luma\\\\79.gif',\n",
       " '..//images//luma\\\\8.gif',\n",
       " '..//images//luma\\\\80.gif',\n",
       " '..//images//luma\\\\82.gif',\n",
       " '..//images//luma\\\\84.gif',\n",
       " '..//images//luma\\\\85.gif',\n",
       " '..//images//luma\\\\86.gif',\n",
       " '..//images//luma\\\\87.gif',\n",
       " '..//images//luma\\\\88.gif',\n",
       " '..//images//luma\\\\89.gif',\n",
       " '..//images//luma\\\\9.gif',\n",
       " '..//images//luma\\\\91.gif',\n",
       " '..//images//luma\\\\92.gif',\n",
       " '..//images//luma\\\\93.gif',\n",
       " '..//images//luma\\\\94.gif',\n",
       " '..//images//luma\\\\95.gif',\n",
       " '..//images//luma\\\\99.gif']"
      ]
     },
     "execution_count": 35,
     "metadata": {},
     "output_type": "execute_result"
    }
   ],
   "source": [
    "images"
   ]
  },
  {
   "cell_type": "code",
   "execution_count": null,
   "metadata": {},
   "outputs": [],
   "source": []
  }
 ],
 "metadata": {
  "kernelspec": {
   "display_name": "Python 3",
   "language": "python",
   "name": "python3"
  },
  "language_info": {
   "codemirror_mode": {
    "name": "ipython",
    "version": 3
   },
   "file_extension": ".py",
   "mimetype": "text/x-python",
   "name": "python",
   "nbconvert_exporter": "python",
   "pygments_lexer": "ipython3",
   "version": "3.6.12"
  }
 },
 "nbformat": 4,
 "nbformat_minor": 2
}
