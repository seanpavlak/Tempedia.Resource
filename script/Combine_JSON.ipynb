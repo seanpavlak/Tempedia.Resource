{
 "cells": [
  {
   "cell_type": "code",
   "execution_count": 31,
   "metadata": {
    "collapsed": true
   },
   "outputs": [],
   "source": [
    "import json\n",
    "import glob"
   ]
  },
  {
   "cell_type": "code",
   "execution_count": 32,
   "metadata": {
    "collapsed": true
   },
   "outputs": [],
   "source": [
    "temtems = []\n",
    "directories = glob.glob('./temtem/*.json')"
   ]
  },
  {
   "cell_type": "code",
   "execution_count": 33,
   "metadata": {},
   "outputs": [
    {
     "name": "stdout",
     "output_type": "stream",
     "text": [
      "./temtem/115.json\n",
      "./temtem/050.json\n",
      "./temtem/142.json\n",
      "./temtem/007.json\n",
      "./temtem/154.json\n",
      "./temtem/011.json\n",
      "./temtem/103.json\n",
      "./temtem/046.json\n",
      "./temtem/085.json\n",
      "./temtem/093.json\n",
      "./temtem/139.json\n",
      "./temtem/119.json\n",
      "./temtem/158.json\n",
      "./temtem/031.json\n",
      "./temtem/066.json\n",
      "./temtem/089.json\n",
      "./temtem/123.json\n",
      "./temtem/070.json\n",
      "./temtem/135.json\n",
      "./temtem/027.json\n",
      "./temtem/026.json\n",
      "./temtem/071.json\n",
      "./temtem/134.json\n",
      "./temtem/067.json\n",
      "./temtem/088.json\n",
      "./temtem/122.json\n",
      "./temtem/030.json\n",
      "./temtem/159.json\n",
      "./temtem/118.json\n",
      "./temtem/092.json\n",
      "./temtem/138.json\n",
      "./temtem/084.json\n",
      "./temtem/102.json\n",
      "./temtem/047.json\n",
      "./temtem/155.json\n",
      "./temtem/010.json\n",
      "./temtem/143.json\n",
      "./temtem/006.json\n",
      "./temtem/114.json\n",
      "./temtem/051.json\n",
      "./temtem/148.json\n",
      "./temtem/109.json\n",
      "./temtem/037.json\n",
      "./temtem/060.json\n",
      "./temtem/125.json\n",
      "./temtem/076.json\n",
      "./temtem/133.json\n",
      "./temtem/099.json\n",
      "./temtem/021.json\n",
      "./temtem/113.json\n",
      "./temtem/056.json\n",
      "./temtem/144.json\n",
      "./temtem/001.json\n",
      "./temtem/152.json\n",
      "./temtem/017.json\n",
      "./temtem/105.json\n",
      "./temtem/040.json\n",
      "./temtem/129.json\n",
      "./temtem/083.json\n",
      "./temtem/095.json\n",
      "./temtem/094.json\n",
      "./temtem/128.json\n",
      "./temtem/082.json\n",
      "./temtem/104.json\n",
      "./temtem/041.json\n",
      "./temtem/153.json\n",
      "./temtem/016.json\n",
      "./temtem/145.json\n",
      "./temtem/112.json\n",
      "./temtem/057.json\n",
      "./temtem/020.json\n",
      "./temtem/077.json\n",
      "./temtem/132.json\n",
      "./temtem/098.json\n",
      "./temtem/061.json\n",
      "./temtem/124.json\n",
      "./temtem/036.json\n",
      "./temtem/108.json\n",
      "./temtem/149.json\n",
      "./temtem/023.json\n",
      "./temtem/131.json\n",
      "./temtem/074.json\n",
      "./temtem/127.json\n",
      "./temtem/062.json\n",
      "./temtem/035.json\n",
      "./temtem/019.json\n",
      "./temtem/058.json\n",
      "./temtem/097.json\n",
      "./temtem/078.json\n",
      "./temtem/081.json\n",
      "./temtem/039.json\n",
      "./temtem/042.json\n",
      "./temtem/107.json\n",
      "./temtem/015.json\n",
      "./temtem/150.json\n",
      "./temtem/003.json\n",
      "./temtem/146.json\n",
      "./temtem/054.json\n",
      "./temtem/111.json\n",
      "./temtem/055.json\n",
      "./temtem/110.json\n",
      "./temtem/002.json\n",
      "./temtem/147.json\n",
      "./temtem/014.json\n",
      "./temtem/151.json\n",
      "./temtem/043.json\n",
      "./temtem/106.json\n",
      "./temtem/038.json\n",
      "./temtem/080.json\n",
      "./temtem/096.json\n",
      "./temtem/079.json\n",
      "./temtem/059.json\n",
      "./temtem/018.json\n",
      "./temtem/034.json\n",
      "./temtem/126.json\n",
      "./temtem/063.json\n",
      "./temtem/130.json\n",
      "./temtem/075.json\n",
      "./temtem/022.json\n",
      "./temtem/029.json\n",
      "./temtem/091.json\n",
      "./temtem/087.json\n",
      "./temtem/068.json\n",
      "./temtem/044.json\n",
      "./temtem/101.json\n",
      "./temtem/013.json\n",
      "./temtem/156.json\n",
      "./temtem/005.json\n",
      "./temtem/140.json\n",
      "./temtem/052.json\n",
      "./temtem/117.json\n",
      "./temtem/160.json\n",
      "./temtem/025.json\n",
      "./temtem/137.json\n",
      "./temtem/072.json\n",
      "./temtem/121.json\n",
      "./temtem/064.json\n",
      "./temtem/033.json\n",
      "./temtem/048.json\n",
      "./temtem/009.json\n",
      "./temtem/008.json\n",
      "./temtem/049.json\n",
      "./temtem/032.json\n",
      "./temtem/120.json\n",
      "./temtem/065.json\n",
      "./temtem/136.json\n",
      "./temtem/073.json\n",
      "./temtem/161.json\n",
      "./temtem/024.json\n",
      "./temtem/053.json\n",
      "./temtem/116.json\n",
      "./temtem/004.json\n",
      "./temtem/141.json\n",
      "./temtem/012.json\n",
      "./temtem/157.json\n",
      "./temtem/045.json\n",
      "./temtem/100.json\n",
      "./temtem/086.json\n",
      "./temtem/069.json\n",
      "./temtem/090.json\n",
      "./temtem/028.json\n"
     ]
    }
   ],
   "source": [
    "for directory in directories:\n",
    "    print(directory)\n",
    "    with open(directory, 'r') as f:\n",
    "        temtems.append(json.load(f))"
   ]
  },
  {
   "cell_type": "code",
   "execution_count": 34,
   "metadata": {
    "collapsed": true
   },
   "outputs": [],
   "source": [
    "temtems = list(filter(lambda x: x != {}, temtems))"
   ]
  },
  {
   "cell_type": "code",
   "execution_count": 35,
   "metadata": {
    "collapsed": true
   },
   "outputs": [],
   "source": [
    "temtems = sorted(temtems, key = lambda i: i['id'])"
   ]
  },
  {
   "cell_type": "code",
   "execution_count": 36,
   "metadata": {},
   "outputs": [],
   "source": [
    "with open('temtems.json', 'w') as fout:\n",
    "    json.dump(temtems, fout)"
   ]
  },
  {
   "cell_type": "code",
   "execution_count": null,
   "metadata": {
    "collapsed": true
   },
   "outputs": [],
   "source": []
  }
 ],
 "metadata": {
  "kernelspec": {
   "display_name": "Python 3",
   "language": "python",
   "name": "python3"
  },
  "language_info": {
   "codemirror_mode": {
    "name": "ipython",
    "version": 3
   },
   "file_extension": ".py",
   "mimetype": "text/x-python",
   "name": "python",
   "nbconvert_exporter": "python",
   "pygments_lexer": "ipython3",
   "version": "3.6.3"
  }
 },
 "nbformat": 4,
 "nbformat_minor": 2
}
